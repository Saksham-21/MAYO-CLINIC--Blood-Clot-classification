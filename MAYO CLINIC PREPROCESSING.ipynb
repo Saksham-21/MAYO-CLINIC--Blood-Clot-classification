{
 "cells": [
  {
   "cell_type": "code",
   "execution_count": 4,
   "metadata": {},
   "outputs": [
    {
     "name": "stderr",
     "output_type": "stream",
     "text": [
      "Global seed set to 1234\n",
      "Global seed set to 1234\n"
     ]
    },
    {
     "data": {
      "text/plain": [
       "1234"
      ]
     },
     "execution_count": 4,
     "metadata": {},
     "output_type": "execute_result"
    }
   ],
   "source": [
    "import pandas as pd\n",
    "import numpy as np\n",
    "import os\n",
    "from pathlib import Path\n",
    "from datetime import datetime, timedelta\n",
    "import time\n",
    "import gc\n",
    "import copy\n",
    "from dateutil.relativedelta import relativedelta\n",
    "from sklearn.metrics import mean_squared_error, roc_auc_score\n",
    "pd.options.display.max_rows = 100\n",
    "pd.options.display.max_columns = 100\n",
    "import warnings\n",
    "warnings.filterwarnings(\"ignore\")\n",
    "import pytorch_lightning as pl\n",
    "random_seed=1234\n",
    "pl.seed_everything(random_seed)\n",
    "import torch\n",
    "from torch import nn\n",
    "import numpy as np\n",
    "from torch.utils.data import (Dataset, DataLoader)\n",
    "\n",
    "\n",
    "#basic libs\n",
    "\n",
    "import pandas as pd\n",
    "import numpy as np\n",
    "import os\n",
    "from pathlib import Path\n",
    "from dateutil.relativedelta import relativedelta\n",
    "\n",
    "import gc\n",
    "import copy\n",
    "\n",
    "#additional data processing\n",
    "\n",
    "import pyarrow.parquet as pq\n",
    "import pyarrow as pa\n",
    "\n",
    "from sklearn.preprocessing import StandardScaler, MinMaxScaler\n",
    "\n",
    "\n",
    "#visualization\n",
    "import seaborn as sns\n",
    "\n",
    "\n",
    "#load images\n",
    "import matplotlib.image as mpimg\n",
    "import PIL\n",
    "from PIL import Image\n",
    "\n",
    "\n",
    "\n",
    "\n",
    "#settings\n",
    "pd.options.display.max_rows = 100\n",
    "pd.options.display.max_columns = 100\n",
    "\n",
    "Image.MAX_IMAGE_PIXELS = None\n",
    "\n",
    "import warnings\n",
    "warnings.filterwarnings(\"ignore\")\n",
    "\n",
    "import pytorch_lightning as pl\n",
    "random_seed=1234\n",
    "pl.seed_everything(random_seed)"
   ]
  },
  {
   "cell_type": "code",
   "execution_count": 5,
   "metadata": {},
   "outputs": [],
   "source": [
    "import torch\n",
    "import torch.nn as nn\n",
    "import torch.optim as optim\n",
    "from torch.optim import lr_scheduler\n",
    "import torch.backends.cudnn as cudnn\n",
    "import numpy as np\n",
    "import torchvision\n",
    "from torchvision import datasets, models, transforms\n",
    "import matplotlib.pyplot as plt"
   ]
  },
  {
   "cell_type": "code",
   "execution_count": 8,
   "metadata": {},
   "outputs": [
    {
     "name": "stdout",
     "output_type": "stream",
     "text": [
      "['abc682_0.tif', 'abfcb7_0.tif', 'ac2147_0.tif', 'adc6e3_0.tif', 'ae0487_0.tif', 'ae26ae_0.tif', 'aeb3bd_0.tif', 'af4dd6_0.tif', 'af7a93_0.tif', 'b01110_0.tif', 'b07b42_0.tif', 'b1e363_0.tif', 'b1e363_1.tif', 'b1f248_0.tif', 'b21b87_0.tif', 'b25f2b_0.tif', 'b342b0_0.tif', 'b3c755_0.tif', 'b43ebe_0.tif', 'b43ebe_1.tif', 'b46f3b_0.tif', 'b4a34d_0.tif', 'b525a8_0.tif', 'b5aece_0.tif', 'b6cfea_0.tif', 'b6f1e9_0.tif', 'b6fffe_0.tif', 'b7f78e_0.tif', 'b894f4_0.tif', 'b8ef90_0.tif', 'b948e8_0.tif', 'ba8305_0.tif', 'baa4c4_0.tif', 'bb06a5_0.tif', 'bbc5b1_0.tif', 'bc9536_0.tif', 'bd0cea_0.tif', 'bd783d_0.tif', 'bd783d_1.tif', 'bdf3c2_0.tif', 'bec7ca_0.tif', 'bf1599_0.tif', 'bff862_0.tif', 'c01d28_0.tif', 'c01d28_1.tif', 'c07ca9_0.tif', 'c12836_0.tif', 'c12836_1.tif', 'c1b288_0.tif', 'c1b699_0.tif', 'c1cf0d_0.tif', 'c30f14_0.tif', 'c30f14_1.tif', 'c31442_0.tif', 'c32d76_0.tif', 'c32d76_1.tif', 'c32d76_2.tif', 'c3a1a5_0.tif', 'c3f2f8_0.tif', 'c42387_0.tif', 'c4a601_0.tif', 'c4da19_0.tif', 'c5d171_0.tif', 'c5e687_0.tif', 'c61b26_0.tif', 'c63918_0.tif', 'c65db4_0.tif', 'c65db4_1.tif', 'c68551_0.tif', 'c6c758_0.tif', 'c78d6b_0.tif', 'c8912e_0.tif', 'c92b51_0.tif', 'c97365_0.tif', 'c9ab6c_0.tif', 'c9d53d_0.tif', 'ca2f66_0.tif', 'ca7b57_0.tif', 'caf901_0.tif', 'cb1293_0.tif', 'cb2534_0.tif', 'cb2534_1.tif', 'cb4f8e_0.tif', 'cb4f8e_1.tif', 'cc73c0_0.tif', 'cde001_0.tif', 'cff1ce_0.tif', 'd03362_0.tif', 'd13031_0.tif', 'd1da59_0.tif', 'd20177_0.tif', 'd23cd1_0.tif', 'd24672_0.tif', 'd25a2f_0.tif', 'd2c18a_0.tif', 'd2e447_0.tif', 'd33b23_0.tif', 'd346ca_0.tif', 'd36b5f_0.tif', 'd380dc_0.tif', 'd3d21b_0.tif', 'd44b91_0.tif', 'd44b91_1.tif', 'd4791c_0.tif', 'd4ac9a_0.tif', 'd4c955_0.tif', 'd4c955_1.tif', 'd4dc4f_0.tif', 'd53809_0.tif', 'd53ab7_0.tif', 'd5c637_0.tif', 'd62b1d_0.tif', 'd6525e_0.tif', 'd74701_0.tif', 'd74701_1.tif', 'd7a20d_0.tif', 'd7dc3e_0.tif', 'd7dcea_0.tif', 'd862da_0.tif', 'd8a746_0.tif', 'd8db68_0.tif', 'd91d0f_0.tif', 'd923a7_0.tif', 'd93fd8_0.tif', 'd98dc9_0.tif', 'da732b_0.tif', 'dae554_0.tif', 'db268c_0.tif', 'dba56f_0.tif', 'dbd64b_0.tif', 'dbecb3_0.tif', 'dc8f86_0.tif', 'dc8f86_1.tif', 'dca376_0.tif', 'dca3b1_0.tif', 'dd05a2_0.tif', 'dd6316_0.tif', 'de9e4c_0.tif', 'deec71_0.tif', 'defd00_0.tif', 'df2c0d_0.tif', 'df4c9c_0.tif', 'df543d_0.tif', 'df543d_1.tif', 'dfd99d_0.tif', 'e0b829_0.tif', 'e0cfd5_0.tif', 'e10f49_0.tif', 'e10fdb_0.tif', 'e251ff_0.tif', 'e26a04_0.tif', 'e26a04_1.tif', 'e316dd_0.tif', 'e316dd_1.tif', 'e3a230_0.tif', 'e3a24f_0.tif', 'e3e850_0.tif', 'e3f976_0.tif', 'e5bd0b_0.tif', 'e5f672_0.tif', 'e60ca1_0.tif', 'e65811_0.tif', 'e6764f_0.tif', 'e6ceb4_0.tif', 'e6ceb4_1.tif', 'e72352_0.tif', 'e732f6_0.tif', 'e732f6_1.tif', 'e7bec8_0.tif', 'e7d583_0.tif', 'e8dceb_0.tif', 'e96bd3_0.tif', 'e9c181_0.tif', 'e9c181_1.tif', 'ea2aad_0.tif', 'eb21f0_0.tif', 'eb6733_0.tif', 'ebb225_0.tif', 'ebce5d_0.tif', 'ec3098_0.tif', 'ed5006_0.tif', 'edc9a4_0.tif', 'eebf8d_0.tif', 'eebf8d_1.tif', 'eebf8d_2.tif', 'ef0c95_0.tif', 'ef1b15_0.tif', 'ef68ba_0.tif', 'f05449_0.tif', 'f115aa_0.tif', 'f1f952_0.tif', 'f1f952_1.tif', 'f1f952_2.tif', 'f27c51_0.tif', 'f2aba9_0.tif', 'f2c002_0.tif', 'f322da_0.tif', 'f3e9f6_0.tif', 'f3e9f6_1.tif', 'f40c69_0.tif', 'f40c69_1.tif', 'f40c69_2.tif', 'f40c69_3.tif', 'f4287c_0.tif', 'f4c9ff_0.tif', 'f4d8f8_0.tif', 'f56138_0.tif', 'f57f2e_0.tif', 'f58fcb_0.tif', 'f5ce23_0.tif', 'f75146_0.tif', 'f75146_1.tif', 'f7f1bc_0.tif', 'f7fb11_0.tif', 'f83bf0_0.tif', 'f8712b_0.tif', 'f94fb1_0.tif', 'f9569b_0.tif', 'f95d8b_0.tif', 'f95d8b_1.tif', 'f9c105_0.tif', 'f9fc6b_0.tif', 'f9fc6b_1.tif', 'fa0080_0.tif', 'fa9050_0.tif', 'fa9747_0.tif', 'fad610_0.tif', 'fb5f7e_0.tif', 'fb5f7e_1.tif', 'fb8bf8_0.tif', 'fbdcde_0.tif', 'fbdcde_1.tif', 'fbf2eb_0.tif', 'fd3079_0.tif', 'fd368e_0.tif', 'fd418f_0.tif', 'fd684f_0.tif', 'fd7c5b_0.tif', 'fdce0f_0.tif', 'fdce0f_1.tif', 'fdce0f_2.tif', 'fde9ba_0.tif', 'fdf998_0.tif', 'fdf998_1.tif', 'fe0cca_0.tif', 'fe9645_0.tif', 'fe9bec_0.tif', 'ff14e0_0.tif', 'ffec5c_0.tif', 'ffec5c_1.tif']\n"
     ]
    }
   ],
   "source": [
    "from os import listdir\n",
    "List=list()\n",
    "List=(os.listdir(r'D:\\MAYO3'))\n",
    "print(List)"
   ]
  },
  {
   "cell_type": "code",
   "execution_count": 9,
   "metadata": {},
   "outputs": [],
   "source": [
    "from PIL import Image\n",
    "for x in List:\n",
    "        basewidth = 2500\n",
    "        img = Image.open(r'D:\\MAYO3/%s'%x)\n",
    "        wpercent = (basewidth/float(img.size[0]))\n",
    "        hsize = int((float(img.size[1])*float(wpercent)))\n",
    "        img = img.resize((basewidth,hsize), Image.ANTIALIAS)\n",
    "        #img, mask = mask_median(np.array(img))\n",
    "        #img = prune_image_rows_cols(img, mask)\n",
    "        img.save(r'D:\\MAYORESIZE3/%s'%x)"
   ]
  },
  {
   "cell_type": "code",
   "execution_count": 10,
   "metadata": {},
   "outputs": [
    {
     "name": "stdout",
     "output_type": "stream",
     "text": [
      "['abc682_0.tif', 'abfcb7_0.tif', 'ac2147_0.tif', 'adc6e3_0.tif', 'ae0487_0.tif', 'ae26ae_0.tif', 'aeb3bd_0.tif', 'af4dd6_0.tif', 'af7a93_0.tif', 'b01110_0.tif', 'b07b42_0.tif', 'b1e363_0.tif', 'b1e363_1.tif', 'b1f248_0.tif', 'b21b87_0.tif', 'b25f2b_0.tif', 'b342b0_0.tif', 'b3c755_0.tif', 'b43ebe_0.tif', 'b43ebe_1.tif', 'b46f3b_0.tif', 'b4a34d_0.tif', 'b525a8_0.tif', 'b5aece_0.tif', 'b6cfea_0.tif', 'b6f1e9_0.tif', 'b6fffe_0.tif', 'b7f78e_0.tif', 'b894f4_0.tif', 'b8ef90_0.tif', 'b948e8_0.tif', 'ba8305_0.tif', 'baa4c4_0.tif', 'bb06a5_0.tif', 'bbc5b1_0.tif', 'bc9536_0.tif', 'bd0cea_0.tif', 'bd783d_0.tif', 'bd783d_1.tif', 'bdf3c2_0.tif', 'bec7ca_0.tif', 'bf1599_0.tif', 'bff862_0.tif', 'c01d28_0.tif', 'c01d28_1.tif', 'c07ca9_0.tif', 'c12836_0.tif', 'c12836_1.tif', 'c1b288_0.tif', 'c1b699_0.tif', 'c1cf0d_0.tif', 'c30f14_0.tif', 'c30f14_1.tif', 'c31442_0.tif', 'c32d76_0.tif', 'c32d76_1.tif', 'c32d76_2.tif', 'c3a1a5_0.tif', 'c3f2f8_0.tif', 'c42387_0.tif', 'c4a601_0.tif', 'c4da19_0.tif', 'c5d171_0.tif', 'c5e687_0.tif', 'c61b26_0.tif', 'c63918_0.tif', 'c65db4_0.tif', 'c65db4_1.tif', 'c68551_0.tif', 'c6c758_0.tif', 'c78d6b_0.tif', 'c8912e_0.tif', 'c92b51_0.tif', 'c97365_0.tif', 'c9ab6c_0.tif', 'c9d53d_0.tif', 'ca2f66_0.tif', 'ca7b57_0.tif', 'caf901_0.tif', 'cb1293_0.tif', 'cb2534_0.tif', 'cb2534_1.tif', 'cb4f8e_0.tif', 'cb4f8e_1.tif', 'cc73c0_0.tif', 'cde001_0.tif', 'cff1ce_0.tif', 'd03362_0.tif', 'd13031_0.tif', 'd1da59_0.tif', 'd20177_0.tif', 'd23cd1_0.tif', 'd24672_0.tif', 'd25a2f_0.tif', 'd2c18a_0.tif', 'd2e447_0.tif', 'd33b23_0.tif', 'd346ca_0.tif', 'd36b5f_0.tif', 'd380dc_0.tif', 'd3d21b_0.tif', 'd44b91_0.tif', 'd44b91_1.tif', 'd4791c_0.tif', 'd4ac9a_0.tif', 'd4c955_0.tif', 'd4c955_1.tif', 'd4dc4f_0.tif', 'd53809_0.tif', 'd53ab7_0.tif', 'd5c637_0.tif', 'd62b1d_0.tif', 'd6525e_0.tif', 'd74701_0.tif', 'd74701_1.tif', 'd7a20d_0.tif', 'd7dc3e_0.tif', 'd7dcea_0.tif', 'd862da_0.tif', 'd8a746_0.tif', 'd8db68_0.tif', 'd91d0f_0.tif', 'd923a7_0.tif', 'd93fd8_0.tif', 'd98dc9_0.tif', 'da732b_0.tif', 'dae554_0.tif', 'db268c_0.tif', 'dba56f_0.tif', 'dbd64b_0.tif', 'dbecb3_0.tif', 'dc8f86_0.tif', 'dc8f86_1.tif', 'dca376_0.tif', 'dca3b1_0.tif', 'dd05a2_0.tif', 'dd6316_0.tif', 'de9e4c_0.tif', 'deec71_0.tif', 'defd00_0.tif', 'df2c0d_0.tif', 'df4c9c_0.tif', 'df543d_0.tif', 'df543d_1.tif', 'dfd99d_0.tif', 'e0b829_0.tif', 'e0cfd5_0.tif', 'e10f49_0.tif', 'e10fdb_0.tif', 'e251ff_0.tif', 'e26a04_0.tif', 'e26a04_1.tif', 'e316dd_0.tif', 'e316dd_1.tif', 'e3a230_0.tif', 'e3a24f_0.tif', 'e3e850_0.tif', 'e3f976_0.tif', 'e5bd0b_0.tif', 'e5f672_0.tif', 'e60ca1_0.tif', 'e65811_0.tif', 'e6764f_0.tif', 'e6ceb4_0.tif', 'e6ceb4_1.tif', 'e72352_0.tif', 'e732f6_0.tif', 'e732f6_1.tif', 'e7bec8_0.tif', 'e7d583_0.tif', 'e8dceb_0.tif', 'e96bd3_0.tif', 'e9c181_0.tif', 'e9c181_1.tif', 'ea2aad_0.tif', 'eb21f0_0.tif', 'eb6733_0.tif', 'ebb225_0.tif', 'ebce5d_0.tif', 'ec3098_0.tif', 'ed5006_0.tif', 'edc9a4_0.tif', 'eebf8d_0.tif', 'eebf8d_1.tif', 'eebf8d_2.tif', 'ef0c95_0.tif', 'ef1b15_0.tif', 'ef68ba_0.tif', 'f05449_0.tif', 'f115aa_0.tif', 'f1f952_0.tif', 'f1f952_1.tif', 'f1f952_2.tif', 'f27c51_0.tif', 'f2aba9_0.tif', 'f2c002_0.tif', 'f322da_0.tif', 'f3e9f6_0.tif', 'f3e9f6_1.tif', 'f40c69_0.tif', 'f40c69_1.tif', 'f40c69_2.tif', 'f40c69_3.tif', 'f4287c_0.tif', 'f4c9ff_0.tif', 'f4d8f8_0.tif', 'f56138_0.tif', 'f57f2e_0.tif', 'f58fcb_0.tif', 'f5ce23_0.tif', 'f75146_0.tif', 'f75146_1.tif', 'f7f1bc_0.tif', 'f7fb11_0.tif', 'f83bf0_0.tif', 'f8712b_0.tif', 'f94fb1_0.tif', 'f9569b_0.tif', 'f95d8b_0.tif', 'f95d8b_1.tif', 'f9c105_0.tif', 'f9fc6b_0.tif', 'f9fc6b_1.tif', 'fa0080_0.tif', 'fa9050_0.tif', 'fa9747_0.tif', 'fad610_0.tif', 'fb5f7e_0.tif', 'fb5f7e_1.tif', 'fb8bf8_0.tif', 'fbdcde_0.tif', 'fbdcde_1.tif', 'fbf2eb_0.tif', 'fd3079_0.tif', 'fd368e_0.tif', 'fd418f_0.tif', 'fd684f_0.tif', 'fd7c5b_0.tif', 'fdce0f_0.tif', 'fdce0f_1.tif', 'fdce0f_2.tif', 'fde9ba_0.tif', 'fdf998_0.tif', 'fdf998_1.tif', 'fe0cca_0.tif', 'fe9645_0.tif', 'fe9bec_0.tif', 'ff14e0_0.tif', 'ffec5c_0.tif', 'ffec5c_1.tif']\n"
     ]
    }
   ],
   "source": [
    "List2=list()\n",
    "List2=(os.listdir('D:\\MAYORESIZE3'))\n",
    "\n",
    "print(List2)"
   ]
  },
  {
   "cell_type": "code",
   "execution_count": 11,
   "metadata": {},
   "outputs": [],
   "source": [
    "def prune_image_rows_cols(im, mask, thr=0.990):\n",
    "    # delete empty columns\n",
    "    for l in reversed(range(im.shape[1])):\n",
    "        if (np.sum(mask[:, l]) / float(mask.shape[0])) > thr:\n",
    "            im = np.delete(im, l, 1)\n",
    "    # delete empty rows\n",
    "    for l in reversed(range(im.shape[0])):\n",
    "        if (np.sum(mask[l, :]) / float(mask.shape[1])) > thr:\n",
    "            im = np.delete(im, l, 0)\n",
    "    return im\n",
    "\n",
    "\n",
    "def mask_median(im, val=255):\n",
    "    masks = [None] * 3\n",
    "    for c in range(3):\n",
    "        masks[c] = im[..., c] >= np.median(im[:, :, c]) - 5\n",
    "    mask = np.logical_and(*masks)\n",
    "    im[mask, :] = val\n",
    "    return im, mask"
   ]
  },
  {
   "cell_type": "code",
   "execution_count": 6,
   "metadata": {},
   "outputs": [],
   "source": [
    "import cv2\n",
    "from PIL import Image\n",
    "for y in List2:\n",
    "    img2 = cv2.imread(r'D:\\MAYORESIZE3/%s'%y)\n",
    "    img2, mask2 = mask_median(np.array(img2))\n",
    "    img2 = prune_image_rows_cols(img2, mask2)\n",
    "    cv2.imwrite(r'D:\\MAYOWHITE3/%s'%y,img2)\n",
    " #resized_gray_img.save(f'./gray/graypic%d.tif'%b)\n",
    " "
   ]
  },
  {
   "cell_type": "code",
   "execution_count": 12,
   "metadata": {},
   "outputs": [
    {
     "name": "stdout",
     "output_type": "stream",
     "text": [
      "['006388_0.tif', '028989_0.tif', '029c68_0.tif', '032f10_0.tif', '0372b0_0.tif', '037300_0.tif', '0415c3_0.tif', '04439c_0.tif', '045eb0_0.tif', '0468a8_0.tif', '0468a8_1.tif', '049194_0.tif', '049194_1.tif', '055f6a_0.tif', '062387_0.tif', '070fe0_0.tif', '09644e_0.tif', '09644e_1.tif', '09644e_2.tif', '09644e_3.tif', '09644e_4.tif', '098f15_0.tif', '112b6e_0.tif', '112b6e_1.tif', '113bb3_0.tif', '129102_0.tif', '1295bb_0.tif', '140d1a_0.tif', '162cad_0.tif', '1764ff_0.tif', '194e3f_0.tif', '205025_0.tif', '20914b_0.tif', '214cfa_0.tif', '214cfa_1.tif', '21726e_0.tif', '217b27_0.tif', '2244d2_0.tif', '2268cf_0.tif', '2394f6_0.tif', '2446b8_0.tif', '244aeb_0.tif', '244aeb_1.tif', '244aeb_2.tif', '245758_0.tif', '250944_0.tif', '251bfc_0.tif', '251c77_0.tif', '2745fc_0.tif', '27afc7_0.tif', '280c26_0.tif', '280c26_1.tif', '282d0a_0.tif', '283f35_0.tif', '288156_0.tif', '291099_0.tif', '29a4f6_0.tif', '29b1b7_0.tif', '300145_0.tif', '3020ef_0.tif', '313d30_0.tif', '3152c0_0.tif', '31588e_0.tif', '31adaa_0.tif', '31adaa_1.tif', '329006_0.tif', '32e44f_0.tif', '33d071_0.tif', '33d2a7_0.tif', '33da32_0.tif', '34a278_0.tif', '34c9bc_0.tif', '354f74_0.tif', '355354_0.tif', '355354_1.tif', '35b75a_0.tif', '366fd0_0.tif', '369366_0.tif', '36a149_0.tif', '37258c_0.tif', '376cf6_0.tif', '379f1c_0.tif', '383f05_0.tif', '384052_0.tif', '392b24_0.tif', '395ea0_0.tif', '3982bf_0.tif', '4094c4_0.tif', '4188be_0.tif', '41b23c_0.tif', '41b4ea_0.tif', '41b4ea_1.tif', '41db5b_0.tif', '424c9d_0.tif', '42529f_0.tif', '437435_0.tif', '437435_1.tif', '43c62b_0.tif', '43eacb_0.tif', '4550fb_0.tif', '45a0e5_0.tif', '45a0e5_1.tif', '45c6ce_0.tif', '45e3e0_0.tif', '464289_0.tif', '4647d7_0.tif', '4667f6_0.tif', '46def4_0.tif', '46e479_0.tif', '4763a7_0.tif', '481ba8_0.tif', '488cd4_0.tif', '48af1a_0.tif', '4919a7_0.tif', '4929cd_0.tif', '497c27_0.tif', '49ea39_0.tif', '507ac9_0.tif', '508589_0.tif', '509042_0.tif', '50ba15_0.tif', '510d2e_0.tif', '512856_0.tif', '516e18_0.tif', '516e18_1.tif', '526dba_0.tif', '52bc2d_0.tif', '52d106_0.tif', '533081_0.tif', '533081_1.tif', '533081_2.tif', '533a49_0.tif', '53845a_0.tif', '53845a_1.tif', '53e0d7_0.tif', '540410_0.tif', '5415fe_0.tif', '547474_0.tif', '54838a_0.tif', '54ddc7_0.tif', '557c4b_0.tif', '55809c_0.tif', '5588f9_0.tif', '5619c3_0.tif', '5671c1_0.tif', '56d177_0.tif', '56d177_1.tif', '56d177_2.tif', '56d177_3.tif', '56d177_4.tif', '579988_0.tif', '588e11_0.tif', '59441e_0.tif', '5987c0_0.tif', '5987c0_1.tif', '5987c0_2.tif', '5987c0_3.tif', '599e16_0.tif', '6015f7_0.tif', '60a950_0.tif', '611a50_0.tif', '615d87_0.tif', '616c62_0.tif', '616c62_1.tif', '623f89_0.tif', '62dd90_0.tif', '634e2f_0.tif', '63f341_0.tif', '64d167_0.tif', '652471_0.tif', '6569ba_0.tif', '658beb_0.tif', '658beb_1.tif', '65aadd_0.tif', '65d1b4_0.tif', '65fe16_0.tif', '6670b9_0.tif', '6674a4_0.tif', '673181_0.tif', '6747be_0.tif', '6747be_1.tif', '68eb0e_0.tif', '690b81_0.tif', '69450f_0.tif', '69d655_0.tif']\n"
     ]
    }
   ],
   "source": [
    "List3=list()\n",
    "List3=(os.listdir('D:\\local resize2'))\n",
    "\n",
    "print(List3)"
   ]
  },
  {
   "cell_type": "code",
   "execution_count": 13,
   "metadata": {},
   "outputs": [],
   "source": [
    "import cv2\n",
    "from PIL import Image\n",
    "for y in List3:\n",
    "    img2 = cv2.imread(r'D:\\local resize2/%s'%y)\n",
    "    img2, mask2 = mask_median(np.array(img2))\n",
    "    img2 = prune_image_rows_cols(img2, mask2)\n",
    "    cv2.imwrite(r'D:\\localwhitespace/%s.tif'%y,img2)"
   ]
  }
 ],
 "metadata": {
  "kernelspec": {
   "display_name": "Python 3 (ipykernel)",
   "language": "python",
   "name": "python3"
  },
  "language_info": {
   "codemirror_mode": {
    "name": "ipython",
    "version": 3
   },
   "file_extension": ".py",
   "mimetype": "text/x-python",
   "name": "python",
   "nbconvert_exporter": "python",
   "pygments_lexer": "ipython3",
   "version": "3.10.5"
  },
  "vscode": {
   "interpreter": {
    "hash": "8219570956ce65c76fcc9bf546c3ee5c1a57576eed3f208c1b3954d68729ab54"
   }
  }
 },
 "nbformat": 4,
 "nbformat_minor": 2
}
